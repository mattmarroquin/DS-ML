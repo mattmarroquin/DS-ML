{
 "cells": [
  {
   "cell_type": "markdown",
   "metadata": {},
   "source": [
    "## Matt Marroquin\n",
    "Homework #8"
   ]
  },
  {
   "cell_type": "markdown",
   "metadata": {},
   "source": [
    "Problem #3"
   ]
  },
  {
   "cell_type": "code",
   "execution_count": 25,
   "metadata": {},
   "outputs": [],
   "source": [
    "import pandas as pd\n",
    "import numpy as np\n",
    "import copy\n",
    "\n",
    "#points in dataset\n",
    "df = pd.DataFrame({\n",
    "    'x': [2,2,8,5,7,6,1,4],\n",
    "    'y': [10,5,4,8,5,4,2,9]\n",
    "})\n",
    "\n",
    "#centroids\n",
    "centroids = {}\n",
    "centroids[0] = [8, 4]\n",
    "centroids[1] = [5,8]\n",
    "centroids[2] = [1,2]\n",
    "\n",
    "#assign points to a cluster\n",
    "def assignment(df, centroids):\n",
    "    for i in centroids.keys():\n",
    "        # euclidean distance\n",
    "        df['distance_from_{}'.format(i)] = (\n",
    "            np.sqrt(\n",
    "                (df['x'] - centroids[i][0]) ** 2\n",
    "                + (df['y'] - centroids[i][1]) ** 2\n",
    "            )\n",
    "        )\n",
    "    centroid_distance_cols = ['distance_from_{}'.format(i) for i in centroids.keys()]\n",
    "    df['closest_centroid'] = df.loc[:, centroid_distance_cols].idxmin(axis=1)\n",
    "    df['closest_centroid'] = df['closest_centroid'].map(lambda x: int(x.lstrip('distance_from_')))\n",
    "    return df\n",
    "\n",
    "#update centroids\n",
    "def update(k):\n",
    "    for i in centroids.keys():\n",
    "        centroids[i][0] = np.mean(df[df['closest_centroid'] == i]['x'])\n",
    "        centroids[i][1] = np.mean(df[df['closest_centroid'] == i]['y'])\n",
    "    return k"
   ]
  },
  {
   "cell_type": "code",
   "execution_count": 24,
   "metadata": {
    "scrolled": false
   },
   "outputs": [
    {
     "name": "stdout",
     "output_type": "stream",
     "text": [
      "   x   y  closest_centroid\n",
      "0  2  10                 1\n",
      "1  2   5                 2\n",
      "2  8   4                 0\n",
      "3  5   8                 1\n",
      "4  7   5                 0\n",
      "5  6   4                 0\n",
      "6  1   2                 2\n",
      "7  4   9                 1\n"
     ]
    }
   ],
   "source": [
    "#first iteration\n",
    "df = assignment(df, centroids)\n",
    "centroids = update(centroids)\n",
    "\n",
    "#second iteration\n",
    "df = assignment(df, centroids)\n",
    "centroids = update(centroids)\n",
    "\n",
    "#print out the points and which clusters they are assigned to after 2 iterations of k-means algorithm\n",
    "print_df = df[['x', 'y', 'closest_centroid']]\n",
    "print(print_df)"
   ]
  },
  {
   "cell_type": "code",
   "execution_count": null,
   "metadata": {},
   "outputs": [],
   "source": []
  }
 ],
 "metadata": {
  "kernelspec": {
   "display_name": "Python 3",
   "language": "python",
   "name": "python3"
  },
  "language_info": {
   "codemirror_mode": {
    "name": "ipython",
    "version": 3
   },
   "file_extension": ".py",
   "mimetype": "text/x-python",
   "name": "python",
   "nbconvert_exporter": "python",
   "pygments_lexer": "ipython3",
   "version": "3.7.0"
  }
 },
 "nbformat": 4,
 "nbformat_minor": 2
}
