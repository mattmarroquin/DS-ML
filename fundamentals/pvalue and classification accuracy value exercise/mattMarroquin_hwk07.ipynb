{
 "cells": [
  {
   "cell_type": "markdown",
   "metadata": {},
   "source": [
    "# Matt Marroquin\n",
    "Homework 7"
   ]
  },
  {
   "cell_type": "markdown",
   "metadata": {},
   "source": [
    "Problem #1 is in \"problem 1.pdf\""
   ]
  },
  {
   "cell_type": "code",
   "execution_count": 2,
   "metadata": {},
   "outputs": [],
   "source": [
    "import pandas as pd\n",
    "from sklearn.model_selection import KFold\n",
    "from sklearn.preprocessing import MinMaxScaler\n",
    "from sklearn.svm import SVR\n",
    "import numpy as np\n",
    "from scipy.stats import ttest_ind\n"
   ]
  },
  {
   "cell_type": "markdown",
   "metadata": {},
   "source": [
    "Problem #2"
   ]
  },
  {
   "cell_type": "code",
   "execution_count": 24,
   "metadata": {},
   "outputs": [
    {
     "name": "stdout",
     "output_type": "stream",
     "text": [
      "The first model is better.\n"
     ]
    }
   ],
   "source": [
    "file = pd.read_csv(\"problem2_table.csv\")\n",
    "df = pd.DataFrame(file)\n",
    "\n",
    "#models\n",
    "m1 = [30.5, 32.2, 20.7, 20.6, 31.0, 41.0, 27.7, 26.0, 21.5, 26.0]\n",
    "m2 = [22.4, 14.5, 22.4, 19.6, 20.7, 20.4, 22.1, 19.4, 16.2, 35.0]\n",
    "\n",
    "value1, pvalue1 = ttest_ind(m1, m2, equal_var=True)\n",
    "value2, pvalue2 = ttest_ind(m1, m2, equal_var=False)\n",
    "\n",
    "#the smaller if the two pvalues means that model is better as its error values were less disparate between m1 and m2\n",
    "if pvalue1 > pvalue2:\n",
    "    print('The second model is better.')\n",
    "else:\n",
    "    print('The first model is better.')"
   ]
  },
  {
   "cell_type": "markdown",
   "metadata": {},
   "source": [
    "Problem #3"
   ]
  },
  {
   "cell_type": "code",
   "execution_count": 25,
   "metadata": {},
   "outputs": [
    {
     "name": "stdout",
     "output_type": "stream",
     "text": [
      "[0.3776322907682256, 0.5633653592927585, 0.4125227758452683, 0.4959218895370757, 0.48150187037629855, 0.6512358878230641, 0.7408997776507074, 0.4906846533269702, 0.524090447624358, 0.5091466457928422]\n"
     ]
    }
   ],
   "source": [
    "file2 = pd.read_csv(\"hwk07.csv\")\n",
    "df2 = pd.DataFrame(file2)\n",
    "\n",
    "#columns used\n",
    "cols = df2.iloc[:, [0, 6]]\n",
    "#class label column\n",
    "cl = df2.iloc[:, 7]\n",
    "\n",
    "#normalize the dataset\n",
    "scaler = MinMaxScaler(feature_range=(0, 1))\n",
    "cols = scaler.fit_transform(cols)\n",
    "\n",
    "scores = []\n",
    "best_svr = SVR(kernel='rbf')\n",
    "\n",
    "#10 fold split\n",
    "cv = KFold(n_splits=10, random_state=42, shuffle=False)\n",
    "#training and testing\n",
    "for train_index, test_index in cv.split(cols):\n",
    "    cols_train, cols_test, cl_train, cl_test = cols[train_index], cols[test_index], cl[train_index], cl[test_index]\n",
    "    best_svr.fit(cols_train, cl_train)\n",
    "    scores.append(best_svr.score(cols_test, cl_test))    \n",
    "\n",
    "#classification accuracy scores\n",
    "print(scores)\n"
   ]
  },
  {
   "cell_type": "code",
   "execution_count": null,
   "metadata": {},
   "outputs": [],
   "source": []
  }
 ],
 "metadata": {
  "kernelspec": {
   "display_name": "Python 3",
   "language": "python",
   "name": "python3"
  },
  "language_info": {
   "codemirror_mode": {
    "name": "ipython",
    "version": 3
   },
   "file_extension": ".py",
   "mimetype": "text/x-python",
   "name": "python",
   "nbconvert_exporter": "python",
   "pygments_lexer": "ipython3",
   "version": "3.7.0"
  }
 },
 "nbformat": 4,
 "nbformat_minor": 2
}
