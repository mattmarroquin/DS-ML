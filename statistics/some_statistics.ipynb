{
 "cells": [
  {
   "cell_type": "code",
   "execution_count": 56,
   "metadata": {},
   "outputs": [
    {
     "data": {
      "text/html": [
       "<div>\n",
       "<style scoped>\n",
       "    .dataframe tbody tr th:only-of-type {\n",
       "        vertical-align: middle;\n",
       "    }\n",
       "\n",
       "    .dataframe tbody tr th {\n",
       "        vertical-align: top;\n",
       "    }\n",
       "\n",
       "    .dataframe thead th {\n",
       "        text-align: right;\n",
       "    }\n",
       "</style>\n",
       "<table border=\"1\" class=\"dataframe\">\n",
       "  <thead>\n",
       "    <tr style=\"text-align: right;\">\n",
       "      <th>k</th>\n",
       "      <th>m=2</th>\n",
       "      <th>m=3</th>\n",
       "      <th>m=4</th>\n",
       "      <th>m=5</th>\n",
       "    </tr>\n",
       "  </thead>\n",
       "  <tbody>\n",
       "    <tr>\n",
       "      <th>5</th>\n",
       "      <td>0.434598</td>\n",
       "      <td>0.367879</td>\n",
       "      <td>0.311403</td>\n",
       "      <td>0.263597</td>\n",
       "    </tr>\n",
       "    <tr>\n",
       "      <th>6</th>\n",
       "      <td>0.286505</td>\n",
       "      <td>0.22313</td>\n",
       "      <td>0.173774</td>\n",
       "      <td>0.135335</td>\n",
       "    </tr>\n",
       "    <tr>\n",
       "      <th>7</th>\n",
       "      <td>0.188876</td>\n",
       "      <td>0.135335</td>\n",
       "      <td>0.096972</td>\n",
       "      <td>0.0694835</td>\n",
       "    </tr>\n",
       "    <tr>\n",
       "      <th>8</th>\n",
       "      <td>0.124514</td>\n",
       "      <td>0.082085</td>\n",
       "      <td>0.0541138</td>\n",
       "      <td>0.035674</td>\n",
       "    </tr>\n",
       "  </tbody>\n",
       "</table>\n",
       "</div>"
      ],
      "text/plain": [
       "k       m=2       m=3        m=4        m=5\n",
       "5  0.434598  0.367879   0.311403   0.263597\n",
       "6  0.286505   0.22313   0.173774   0.135335\n",
       "7  0.188876  0.135335   0.096972  0.0694835\n",
       "8  0.124514  0.082085  0.0541138   0.035674"
      ]
     },
     "metadata": {},
     "output_type": "display_data"
    }
   ],
   "source": [
    "#.1)\n",
    "\n",
    "from scipy import stats\n",
    "import matplotlib.pyplot as plt\n",
    "import numpy as np\n",
    "import pandas as pd\n",
    "\n",
    "#dataframe table set up\n",
    "df = pd.DataFrame(columns=['m=2','m=3','m=4','m=5'],\n",
    "                 index=['5','6','7','8'])\n",
    "df.columns.name = 'k'\n",
    "\n",
    "\n",
    "#fill df values with their respective probabilities\n",
    "for month in range(2,6):\n",
    "    for rate in range(5,9):\n",
    "        mu = (month/12)*rate #rate is k magnitude\n",
    "        Y = stats.poisson(mu)\n",
    "        df.iat[month-2, rate-5] = Y.pmf(0)\n",
    "        \n",
    "display(df)"
   ]
  },
  {
   "cell_type": "code",
   "execution_count": 121,
   "metadata": {},
   "outputs": [
    {
     "data": {
      "text/plain": [
       "grades\n",
       "(0, 60]      45\n",
       "(60, 70]      7\n",
       "(70, 80]     14\n",
       "(80, 90]      9\n",
       "(90, 100]    11\n",
       "Name: grades, dtype: int64"
      ]
     },
     "metadata": {},
     "output_type": "display_data"
    },
    {
     "data": {
      "text/plain": [
       "45"
      ]
     },
     "metadata": {},
     "output_type": "display_data"
    },
    {
     "data": {
      "text/plain": [
       "7"
      ]
     },
     "metadata": {},
     "output_type": "display_data"
    }
   ],
   "source": [
    "#2.)\n",
    "#not completed\n",
    "\n",
    "from scipy.stats import truncnorm\n",
    "\n",
    "graderanges = [0, 60, 70, 80, 90, 100]\n",
    " \n",
    "def students_in_grade(mu, sigma, numstudents):\n",
    "    main_df = pd.DataFrame()\n",
    "    \n",
    "    for i in range(0,1): \n",
    "        s = pd.Series(np.random.normal(mu, sigma, numstudents))#avgsamples[i] = s.mean()\n",
    "        s = s[s.between(0,100)] #keep only scores between 0 and 100\n",
    "        df = pd.DataFrame({\"grades\": s}) \n",
    "        main_df = df.groupby(pd.cut(df.grades, graderanges)).count() #how many students scored within the ranges in graderanges array\n",
    "        display(main_df[\"grades\"])\n",
    "        display(main_df[\"grades\"][0])\n",
    "        display(main_df[\"grades\"][61])\n",
    "        \n",
    "students_in_grade(80, 64, 200)"
   ]
  },
  {
   "cell_type": "code",
   "execution_count": null,
   "metadata": {},
   "outputs": [],
   "source": []
  }
 ],
 "metadata": {
  "kernelspec": {
   "display_name": "Python 3",
   "language": "python",
   "name": "python3"
  },
  "language_info": {
   "codemirror_mode": {
    "name": "ipython",
    "version": 3
   },
   "file_extension": ".py",
   "mimetype": "text/x-python",
   "name": "python",
   "nbconvert_exporter": "python",
   "pygments_lexer": "ipython3",
   "version": "3.7.0"
  }
 },
 "nbformat": 4,
 "nbformat_minor": 2
}
